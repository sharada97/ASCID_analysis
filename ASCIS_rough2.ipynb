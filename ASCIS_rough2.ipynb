{
 "cells": [
  {
   "cell_type": "code",
   "execution_count": 1,
   "id": "2b449665-9b0a-4abc-9f25-0a31c52fa5a1",
   "metadata": {},
   "outputs": [
    {
     "name": "stdout",
     "output_type": "stream",
     "text": [
      "Total full data files yet:302\n",
      "Folder name ../RUN5/Sc46/DAQ\\CsI_Sc46_Take4_10\n",
      "Actual memory of the selected folder: 5.85 G\n"
     ]
    }
   ],
   "source": [
    "from ASCID_variable import *\n",
    "from ASCID_fit_shortcut import *\n",
    "from ASCID_functions import *\n",
    "from ASCID_analysis import *"
   ]
  },
  {
   "cell_type": "code",
   "execution_count": 2,
   "id": "560b47bc-ad81-47c8-8603-0506d673892b",
   "metadata": {},
   "outputs": [],
   "source": [
    "cut_data=900"
   ]
  },
  {
   "cell_type": "code",
   "execution_count": 19,
   "id": "dd76b5a8-29d3-4ecc-9ce1-84f6addd60e7",
   "metadata": {},
   "outputs": [
    {
     "name": "stdout",
     "output_type": "stream",
     "text": [
      "file 0 done\n",
      "file 1 done\n",
      "file 2 done\n",
      "file 3 done\n",
      "file 4 done\n",
      "file 5 done\n",
      "file 6 done\n",
      "file 7 done\n",
      "file 8 done\n",
      "file 9 done\n",
      "file 10 done\n",
      "file 11 done\n",
      "file 12 done\n",
      "file 13 done\n",
      "file 14 done\n",
      "file 15 done\n",
      "file 16 done\n",
      "file 17 done\n",
      "file 18 done\n",
      "file 19 done\n",
      "file 20 done\n",
      "file 21 done\n",
      "file 22 done\n",
      "file 23 done\n",
      "file 24 done\n",
      "file 25 done\n",
      "file 26 done\n",
      "file 27 done\n",
      "file 28 done\n",
      "file 29 done\n",
      "file 30 done\n",
      "file 31 done\n",
      "file 32 done\n",
      "file 33 done\n",
      "file 34 done\n",
      "file 35 done\n",
      "file 36 done\n",
      "Total Time for this data set is 900 s\n",
      "fit channel 0 done, mean value found (84.0, 108.0), given (83.0, 107.0)\n",
      "fit channel 1 done, mean value found (174.0, 222.0), given (173.0, 221.0)\n",
      "fit channel 2 done, mean value found (78.0, 98.0), given (77.0, 97.0)\n",
      "fit channel 3 done, mean value found (52.0, 66.0), given (51.0, 65.0)\n",
      "fit channel 4 done, mean value found (102.0, 130.0), given (101.0, 131.0)\n",
      "fit channel 5 done, mean value found (106.0, 134.0), given (105.0, 133.0)\n",
      "fit channel 6 done, mean value found (86.0, 108.0), given (85.0, 107.0)\n",
      "fit channel 7 done, mean value found (204.0, 262.0), given (205.0, 261.0)\n",
      "fit channel 8 done, mean value found (78.0, 100.0), given (79.0, 101.0)\n",
      "fit channel 9 done, mean value found (136.0, 174.0), given (135.0, 173.0)\n",
      "fit channel 10 done, mean value found (58.0, 74.0), given (57.0, 73.0)\n",
      "fit channel 11 done, mean value found (144.0, 184.0), given (143.0, 183.0)\n",
      "fit channel 12 done, mean value found (146.0, 186.0), given (143.0, 185.0)\n",
      "fit channel 13 done, mean value found (50.0, 86.0), given (49.0, 85.0)\n",
      "fit channel 14 done, mean value found (56.0, 72.0), given (59.0, 75.0)\n",
      "fit channel 15 done, mean value found (26.0, 26.0), given (25.5, 25.5)\n",
      "fit channel 16 done, mean value found (120.0, 154.0), given (121.0, 153.0)\n",
      "fit channel 17 done, mean value found (84.0, 106.0), given (83.0, 105.0)\n",
      "fit channel 18 done, mean value found (82.0, 104.0), given (81.0, 103.0)\n",
      "fit channel 19 done, mean value found (114.0, 142.0), given (111.0, 141.0)\n",
      "fit channel 20 done, mean value found (86.0, 110.0), given (85.0, 109.0)\n",
      "fit channel 21 done, mean value found (94.0, 118.0), given (93.0, 117.0)\n",
      "fit channel 22 done, mean value found (108.0, 136.0), given (105.0, 133.0)\n",
      "fit channel 23 done, mean value found (120.0, 152.0), given (119.0, 149.0)\n",
      "fit channel 24 done, mean value found (198.0, 250.0), given (195.0, 247.0)\n",
      "fit channel 25 done, mean value found (88.0, 112.0), given (87.0, 109.0)\n",
      "Calibration parameter found\n"
     ]
    }
   ],
   "source": [
    "files = glob.glob('%s/RAW/*.CSV'%read_folder)\n",
    "data, Data_Time = read_data(files)\n",
    "energyPlot = data_preprocess(data)\n",
    "save_fit(energyPlot)\n",
    "print(\"Calibration parameter found\")\n",
    "energyPlot = []"
   ]
  },
  {
   "cell_type": "code",
   "execution_count": 20,
   "id": "66f8f586-5bf2-496d-9381-46cf154ddf26",
   "metadata": {},
   "outputs": [],
   "source": [
    "energyThreshold_CsI = 100     #int(sys.argv[4])*10    #100    #in keV\n",
    "timeWindow =  5e-7     #int(sys.argv[3]) * 1e-7  "
   ]
  },
  {
   "cell_type": "code",
   "execution_count": 21,
   "id": "6af499b8-0319-47ef-b880-eaf7713a5652",
   "metadata": {},
   "outputs": [
    {
     "name": "stdout",
     "output_type": "stream",
     "text": [
      "Calibration done\n",
      "Data preprocessing done\n"
     ]
    }
   ],
   "source": [
    "data = data_calibration(data, energy_source)\n",
    "data_process = np.array(data).T\n",
    "\n",
    "# Threshold arrays\n",
    "Veto_threshold = np.ones(N_det_panel) * energyThreshold[1]\n",
    "Threshold_CsI = np.ones(N_det_CsI) * energyThreshold[0]\n",
    "Threshold_null = np.zeros(15)\n",
    "Threshold = np.concatenate((Threshold_CsI, Threshold_null, Veto_threshold))\n",
    "\n",
    "# Boolean mask to filter rows that meet the threshold condition\n",
    "mask = data_process[:, 2] > Threshold[data_process[:, 0].astype(int)]\n",
    "\n",
    "# Filtered data without intermediate list creation\n",
    "data = data_process[mask, :3].T\n",
    "print(\"Data preprocessing done\")\n",
    "\n"
   ]
  },
  {
   "cell_type": "code",
   "execution_count": 22,
   "id": "72117f20-4ce9-42a8-af6a-22ac372b3465",
   "metadata": {},
   "outputs": [
    {
     "name": "stdout",
     "output_type": "stream",
     "text": [
      "data coincidence done\n"
     ]
    }
   ],
   "source": [
    "nEvents = len(data[0])\n",
    "Sig_index=-1\n",
    "eventTime=0\n",
    "Timed_Energy_event=[]\n",
    "for j in range(nEvents):\n",
    "    if  data[1][j]>eventTime+2*timeWindow and data[0][j] in csiCh:   #Avoiding center detector overlap\n",
    "        eventTime=data[1][j]\n",
    "        eventChannel=int(data[0][j])\n",
    "        Ev_indx=j\n",
    "        Sig_index+=1\n",
    "        EventEnergy=data[2][j]\n",
    "        a=[]\n",
    "        a.extend([Ev_indx])\n",
    "        \n",
    "        while Ev_indx>0 and abs(data[1][Ev_indx-1]-eventTime)<=timeWindow:\n",
    "            Ev_indx-=1\n",
    "            a.extend([Ev_indx])\n",
    "        Ev_indx=j\n",
    "        \n",
    "        while Ev_indx<nEvents-1 and abs(data[1][Ev_indx+1]-eventTime)<=timeWindow:\n",
    "            Ev_indx+=1    \n",
    "            a.extend([Ev_indx])\n",
    "        a = np.unique(np.sort(a)) # a contains the index within the defined coincidence window\n",
    "        Timed_Energy_event.extend([a])\n",
    "print(\"data coincidence done\")"
   ]
  },
  {
   "cell_type": "code",
   "execution_count": 32,
   "id": "ec1f4b81-dab6-4584-aad4-a95f443a5d7b",
   "metadata": {},
   "outputs": [],
   "source": [
    "multi = np.zeros(50)\n",
    "for k,j in enumerate(Timed_Energy_event):\n",
    "    multi[len(j)]+=1"
   ]
  },
  {
   "cell_type": "code",
   "execution_count": 35,
   "id": "397b3619-421f-456e-8b4f-395061e34fc7",
   "metadata": {},
   "outputs": [
    {
     "data": {
      "image/png": "[encoded data removed]",
      "text/plain": [
       "<Figure size 1000x500 with 1 Axes>"
      ]
     },
     "metadata": {},
     "output_type": "display_data"
    }
   ],
   "source": [
    "c = np.arange(50)\n",
    "plt.step(c, multi[0:50])\n",
    "plt.yscale(\"log\")"
   ]
  },
  {
   "cell_type": "code",
   "execution_count": 18,
   "id": "0babeee8-26c0-459c-82ae-e5a5f045c2da",
   "metadata": {},
   "outputs": [
    {
     "data": {
      "text/plain": [
       "array([5.06000000e+02, 6.30000000e+02, 6.90000000e+02, 6.40000000e+01,\n",
       "       3.16000000e+02, 1.76638216e+07, 2.82784006e+06, 1.66500465e+06,\n",
       "       1.63830633e+07, 4.28168947e+06, 1.15265429e+06, 1.63696406e+08,\n",
       "       3.81673465e+05, 5.46149379e+05, 8.97354155e+05, 4.85424096e+06,\n",
       "       3.25797289e+05, 2.90584028e+05, 4.94419341e+05, 1.13140925e+04,\n",
       "       6.06514067e+05, 2.16399374e+06, 1.22611981e+05, 3.63477148e+05,\n",
       "       6.95905836e+04, 2.66472884e+05, 2.16729460e+04, 6.70347200e+03])"
      ]
     },
     "execution_count": 18,
     "metadata": {},
     "output_type": "execute_result"
    }
   ],
   "source": [
    "data[2][j]"
   ]
  },
  {
   "cell_type": "code",
   "execution_count": 16,
   "id": "05ae4bae-0e9b-4b39-a9ad-7c9e47d27068",
   "metadata": {},
   "outputs": [
    {
     "data": {
      "text/plain": [
       "79.99994977581082"
      ]
     },
     "execution_count": 16,
     "metadata": {},
     "output_type": "execute_result"
    }
   ],
   "source": [
    "(data[1][j][-1]-data[1][j][1])*1e9"
   ]
  },
  {
   "cell_type": "code",
   "execution_count": 10,
   "id": "ddca90a8-6776-4bea-978b-53fc98633bc3",
   "metadata": {},
   "outputs": [
    {
     "data": {
      "text/plain": [
       "array([2119631, 2119632, 2119633, 2119634, 2119635, 2119636, 2119637,\n",
       "       2119638, 2119639, 2119640, 2119641, 2119642, 2119643, 2119644,\n",
       "       2119645, 2119646, 2119647, 2119648, 2119649, 2119650, 2119651,\n",
       "       2119652, 2119653, 2119654, 2119655, 2119656, 2119657, 2119658])"
      ]
     },
     "execution_count": 10,
     "metadata": {},
     "output_type": "execute_result"
    }
   ],
   "source": [
    "j"
   ]
  },
  {
   "cell_type": "code",
   "execution_count": null,
   "id": "6d9288fd-ae23-49fe-aed1-48b9fcac4070",
   "metadata": {},
   "outputs": [],
   "source": [
    "sl=[[],[]]\n",
    "min_val = [889-1.2*77, 1132-1.2*94, 889-1.2*77]\n",
    "max_val = [889+1.2*77, 1132+1.2*94, 889+1.2*77]\n",
    "min_val= np.array(min_val, dtype=int)\n",
    "max_val = np.array(max_val, dtype=int)\n",
    "for k,j in enumerate(self.Timed_Energy_event):\n",
    "event_Channel = self.data[0][j]\n",
    "event_Energies = self.data[2][j]\n",
    "# print(event_Channel, event_Energies, k, data[0][k])\n",
    "# for index, (min_v, max_v) in enumerate(zip(min_val[0:2], max_val[0:2])):\n",
    "if any(min_val[0] <= element <= max_val[0] for element in event_Energies):\n",
    "    sl[0].extend([k])\n",
    "elif any(min_val[1] <= element <= max_val[1] for element in event_Energies):\n",
    "    sl[1].extend([k])\n",
    "\n",
    "energy_exclusive = [[], []]\n",
    "multipliciy_any = np.zeros((100, 2))\n",
    "for i in range(2):\n",
    "for k in sl[i]:\n",
    "    event_Channel = self.data[0][self.Timed_Energy_event[k]]\n",
    "    event_Energies = self.data[2][self.Timed_Energy_event[k]]\n",
    "    count_select = 0\n",
    "    for element in event_Energies:\n",
    "        if min_val[i]<=element<=max_val[i]:\n",
    "            energy_select = element\n",
    "            count_select+=1\n",
    "    energy_rest = sum(event_Energies) - energy_select\n",
    "    energy_exclusive[i].extend([energy_rest])\n",
    "    multipliciy_any[len(event_Channel), i]+=1\n",
    "\n",
    "any_gamma = [\"889\", \"1132\", \"889\"]\n",
    "n_exclusive = [[],[]]\n",
    "for i in range(2):\n",
    "n,bins, patches=plt.hist(energy_exclusive[i], bins=np.arange(0,2000, 20), histtype=\"step\", label=\"%d events\"%len(energy_exclusive[i]))\n",
    "self.label(\"Energy (ADC)\", \"Counts\", 10,5)\n",
    "\n",
    "count_889= np.zeros(3)\n",
    "for j in energy_exclusive[i]:\n",
    "    if j == 0:\n",
    "        count_889[0]+=1\n",
    "    elif j<min_val[i+1]:\n",
    "        count_889[1]+=1\n",
    "    elif min_val[i+1]<j<max_val[i+1]:\n",
    "        count_889[2]+=1\n",
    "n_exclusive[i] = n\n",
    "plt.legend(fontsize=14)\n",
    "textstr = '\\n'.join((\n",
    "        r'$N_0= %d$  = %.2f %%' % (count_889[0], count_889[0]/len(energy_exclusive[i])*100),\n",
    "        r'$N_{compton}= %d = %.2f %%' % (count_889[1], count_889[1]/len(energy_exclusive[i])*100),\n",
    "        r'$N_{%s}= %d = %.2f %%' % (any_gamma[i+1], count_889[2], count_889[2]/len(energy_exclusive[i])*100)\n",
    "        ))               #\"r'$\\chi^2/Dof=%.2f$' % (b, )\"\n",
    "props = dict(boxstyle='round', facecolor='wheat', alpha=0.5)\n",
    "plt.text(1200, max(n)*0.8, textstr, fontsize=12,\n",
    "     verticalalignment='top', bbox=props)\n",
    "plt.title(\"Rest energy to the detector at E_1 = %s keV\"%(any_gamma[i]), fontsize = 12)\n",
    "plt.savefig(\"%s/EnergyRest_%s_%dns_%dkeV.png\"%(save_folder_each, any_gamma[i], timeWindow*1e9, energyThreshold_CsI))\n",
    "plt.close()\n",
    "\n",
    "\n",
    "count12 = multipliciy_any[:, i]\n",
    "total = count12.sum()\n",
    "count12=count12/count12.sum()*100\n",
    "count12=np.array(count12, dtype=\"float\")\n",
    "for j in range(len(count12)):\n",
    "    count12[j]=round(count12[j],2)\n",
    "data_count = {'1 Det':count12[1], '2 Det':count12[2], '3 Det':count12[3],\n",
    "    '4 Det':count12[4], '5 Det':count12[5], '6 Det':count12[6]}\n",
    "courses = list(data_count.keys())\n",
    "values = list(data_count.values())\n",
    "fig = plt.figure(figsize = (10, 5))\n",
    "plt.bar(courses, values,\n",
    "    width = 0.4)   #Change time here\n",
    "addlabels(courses, values)\n",
    "# plt.legend(fontsize=14)\n",
    "self.label(\"No. of coincident detectors\", \"No. of events (percentage)\", 8, 5)\n",
    "plt.title(\"Multiplicity Distribution-%s keV (%s)\"%(any_gamma[i], self.source), fontsize=\"15\")\n",
    "plt.savefig(\"%s/MultiplicityAny_%s_%dns_%dkeV.png\"%(save_folder_each, any_gamma[i], timeWindow*1e9, energyThreshold_CsI))\n",
    "plt.close()"
   ]
  },
  {
   "cell_type": "code",
   "execution_count": null,
   "id": "82f2ee2b-7bff-4a3a-a473-2c8ab39889a8",
   "metadata": {},
   "outputs": [],
   "source": [
    "#All and Inner detector coincidence energy \n",
    "if group == \"All\":\n",
    "    EventEnergy = self.EventEnergyAll\n",
    "    EventEnergy_NVeto = self.EventEnergyAll_NVeto\n",
    "elif group == \"inner\":\n",
    "    EventEnergy = self.EventEnergyInner\n",
    "    EventEnergy_NVeto = self.EventEnergyInner_NVeto\n",
    "plt.rcParams['figure.figsize'] = [12,5]\n",
    "n1,bins,patches=plt.hist(EventEnergy, bins=self.Bins,label=\"%d events, all\"%len(EventEnergy), histtype=\"step\")\n",
    "n2,bins,patches=plt.hist(EventEnergy_NVeto, bins=self.Bins,label=\"%d events, Veto antocoincidence\"%len(EventEnergy_NVeto), histtype=\"step\")\n",
    "plt.legend(loc=\"upper left\", fontsize=15)\n",
    "# plt.xticks(np.arange(0, 4000, 250))\n",
    "self.label(\"Energy (keV)\", \"Counts\", 12, 5)\n",
    "plt.title(\"%s detector coincidence Spectrum %dns %dkeV\"%(group, timeWindow*1e9, energyThreshold_CsI), fontsize=14)\n",
    "plt.grid()\n",
    "if plot:\n",
    "    plt.savefig(\"%s/Energy-%sCoin_%dns_%dkeV.jpg\"%(save_folder_each, group, timeWindow*1e9, energyThreshold_CsI))\n",
    "plt.close()\n",
    "n_Energy=n1\n",
    "n_Energy_NVeto=n2\n",
    "\n",
    "if group == \"All\":\n",
    "    self.n_EnergyAll = n_Energy\n",
    "    self.n_EnergyAll_NVeto = n_Energy_NVeto\n",
    "elif group == \"inner\":\n",
    "    self.n_EnergyInner = n_Energy\n",
    "    self.n_EnergyInner_NVeto = n_Energy_NVeto\n",
    "return EventEnergy, EventEnergy_NVeto"
   ]
  },
  {
   "cell_type": "code",
   "execution_count": null,
   "id": "26cef7c1-b55a-4e57-aa6f-8240978e1d10",
   "metadata": {},
   "outputs": [],
   "source": []
  },
  {
   "cell_type": "code",
   "execution_count": null,
   "id": "c6b2d59b-9148-4374-a739-8bc19f596eb7",
   "metadata": {},
   "outputs": [],
   "source": []
  },
  {
   "cell_type": "code",
   "execution_count": null,
   "id": "40926e27-66b3-4214-99e4-809a0f99aa06",
   "metadata": {},
   "outputs": [],
   "source": []
  },
  {
   "cell_type": "code",
   "execution_count": 6,
   "id": "d7e0bba4-023f-4d68-a706-f878421ed60e",
   "metadata": {},
   "outputs": [
    {
     "name": "stdout",
     "output_type": "stream",
     "text": [
      "Calibration done\n",
      "Data preprocessing done\n",
      "data coincidence done\n",
      "0 M events done\n",
      "1 M events done\n",
      "2 M events done\n",
      "3 M events done\n",
      "4 M events done\n",
      "5 M events done\n",
      "6 M events done\n",
      "7 M events done\n",
      "8 M events done\n",
      "9 M events done\n",
      "10 M events done\n",
      "11 M events done\n",
      "12 M events done\n",
      "13 M events done\n",
      "14 M events done\n",
      "15 M events done\n",
      "16 M events done\n",
      "17 M events done\n",
      "grouped energy done\n"
     ]
    },
    {
     "ename": "IndexError",
     "evalue": "index 26 is out of bounds for axis 0 with size 26",
     "output_type": "error",
     "traceback": [
      "\u001b[1;31m---------------------------------------------------------------------------\u001b[0m",
      "\u001b[1;31mIndexError\u001b[0m                                Traceback (most recent call last)",
      "Cell \u001b[1;32mIn[6], line 6\u001b[0m\n\u001b[0;32m      4\u001b[0m analysis\u001b[38;5;241m.\u001b[39mcoincidence()\n\u001b[0;32m      5\u001b[0m analysis\u001b[38;5;241m.\u001b[39mCoaddedEnergy()\n\u001b[1;32m----> 6\u001b[0m \u001b[43manalysis\u001b[49m\u001b[38;5;241;43m.\u001b[39;49m\u001b[43mexclusive_search\u001b[49m\u001b[43m(\u001b[49m\u001b[43m)\u001b[49m\n\u001b[0;32m      7\u001b[0m analysis\u001b[38;5;241m.\u001b[39madded_energy(\u001b[38;5;124m\"\u001b[39m\u001b[38;5;124mAll\u001b[39m\u001b[38;5;124m\"\u001b[39m, plot \u001b[38;5;241m=\u001b[39m plottype)\n\u001b[0;32m      8\u001b[0m analysis\u001b[38;5;241m.\u001b[39madded_energy(\u001b[38;5;124m\"\u001b[39m\u001b[38;5;124minner\u001b[39m\u001b[38;5;124m\"\u001b[39m, plot \u001b[38;5;241m=\u001b[39m plottype)\n",
      "File \u001b[1;32mD:\\Analysis\\ASCID_analysis.py:428\u001b[0m, in \u001b[0;36mASCID_analysis.exclusive_search\u001b[1;34m(self)\u001b[0m\n\u001b[0;32m    426\u001b[0m         energy_rest \u001b[38;5;241m=\u001b[39m \u001b[38;5;28msum\u001b[39m(event_Energies) \u001b[38;5;241m-\u001b[39m energy_select\n\u001b[0;32m    427\u001b[0m         energy_exclusive[i]\u001b[38;5;241m.\u001b[39mextend([energy_rest])\n\u001b[1;32m--> 428\u001b[0m         multipliciy_any[\u001b[38;5;28mlen\u001b[39m(event_Channel), i]\u001b[38;5;241m+\u001b[39m\u001b[38;5;241m=\u001b[39m\u001b[38;5;241m1\u001b[39m\n\u001b[0;32m    430\u001b[0m any_gamma \u001b[38;5;241m=\u001b[39m [\u001b[38;5;124m\"\u001b[39m\u001b[38;5;124m889\u001b[39m\u001b[38;5;124m\"\u001b[39m, \u001b[38;5;124m\"\u001b[39m\u001b[38;5;124m1132\u001b[39m\u001b[38;5;124m\"\u001b[39m, \u001b[38;5;124m\"\u001b[39m\u001b[38;5;124m889\u001b[39m\u001b[38;5;124m\"\u001b[39m]\n\u001b[0;32m    431\u001b[0m n_exclusive \u001b[38;5;241m=\u001b[39m [[],[]]\n",
      "\u001b[1;31mIndexError\u001b[0m: index 26 is out of bounds for axis 0 with size 26"
     ]
    }
   ],
   "source": [
    "data = data_calibration(data, energy_source)\n",
    "analysis = ASCID_analysis(data, Data_Time)\n",
    "analysis.data_preprocess()\n",
    "analysis.coincidence()\n",
    "analysis.CoaddedEnergy()\n",
    "analysis.exclusive_search()\n",
    "analysis.added_energy(\"All\", plot = plottype)\n",
    "analysis.added_energy(\"inner\", plot = plottype)\n",
    "analysis.multiplicity(plot = plottype, veto = \"Veto\")\n",
    "analysis.multiplicity(plot = plottype, veto = \"noVeto\")"
   ]
  },
  {
   "cell_type": "code",
   "execution_count": 1,
   "id": "69d8731e-1cd0-436b-afbb-dadc70938717",
   "metadata": {},
   "outputs": [
    {
     "ename": "NameError",
     "evalue": "name 'i' is not defined",
     "output_type": "error",
     "traceback": [
      "\u001b[1;31m---------------------------------------------------------------------------\u001b[0m",
      "\u001b[1;31mNameError\u001b[0m                                 Traceback (most recent call last)",
      "Cell \u001b[1;32mIn[1], line 3\u001b[0m\n\u001b[0;32m      1\u001b[0m a \u001b[38;5;241m=\u001b[39m [\u001b[38;5;241m1\u001b[39m, \u001b[38;5;241m2\u001b[39m, \u001b[38;5;241m3\u001b[39m]\n\u001b[0;32m      2\u001b[0m \u001b[38;5;28;01mif\u001b[39;00m \u001b[38;5;28many\u001b[39m( i \u001b[38;5;241m<\u001b[39m \u001b[38;5;241m2\u001b[39m \u001b[38;5;28;01mfor\u001b[39;00m i \u001b[38;5;129;01min\u001b[39;00m a):\n\u001b[1;32m----> 3\u001b[0m     \u001b[38;5;28mprint\u001b[39m(\u001b[43mi\u001b[49m)\n",
      "\u001b[1;31mNameError\u001b[0m: name 'i' is not defined"
     ]
    }
   ],
   "source": [
    "a = [1, 2, 3]\n",
    "if any(i < 2 for i in a):\n",
    "    print(i)"
   ]
  },
  {
   "cell_type": "code",
   "execution_count": null,
   "id": "0bf80434-182b-4450-8b89-1b6f1a7c164e",
   "metadata": {},
   "outputs": [],
   "source": [
    "import time"
   ]
  },
  {
   "cell_type": "code",
   "execution_count": null,
   "id": "cb4a95a4-06b4-46d0-ae38-e3114034b864",
   "metadata": {},
   "outputs": [],
   "source": [
    "for time_window in range(1,11,2):\n",
    "    timeWindow = time_window*1e-7\n",
    "    for energyThreshold_CsI in range(60, 140, 20):\n",
    "        analysis = ASCID_analysis(data, Data_Time)\n",
    "        analysis.data_preprocess()\n",
    "        analysis.coincidence()\n",
    "        analysis.CoaddedEnergy()\n",
    "        analysis.exclusive_search()\n",
    "        analysis.added_energy(\"All\", plot = plottype)\n",
    "        analysis.added_energy(\"inner\", plot = plottype)\n",
    "        analysis.multiplicity(plot = plottype, veto = \"Veto\")\n",
    "        analysis.multiplicity(plot = plottype, veto = \"noVeto\")\n",
    "        time.sleep(60)\n",
    "    print(\"Time coincidence done for %d ns\"%(timeWindow*1e9))"
   ]
  }
 ],
 "metadata": {
  "kernelspec": {
   "display_name": "Python 3 (ipykernel)",
   "language": "python",
   "name": "python3"
  },
  "language_info": {
   "codemirror_mode": {
    "name": "ipython",
    "version": 3
   },
   "file_extension": ".py",
   "mimetype": "text/x-python",
   "name": "python",
   "nbconvert_exporter": "python",
   "pygments_lexer": "ipython3",
   "version": "3.9.1"
  }
 },
 "nbformat": 4,
 "nbformat_minor": 5
}
