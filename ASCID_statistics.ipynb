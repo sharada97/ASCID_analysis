{
 "cells": [
  {
   "cell_type": "code",
   "execution_count": 34,
   "id": "40dafed4-56b0-4ff0-ae86-02aa6f49c229",
   "metadata": {},
   "outputs": [
    {
     "name": "stdout",
     "output_type": "stream",
     "text": [
      "Trigger 889 keV, Probing 1132 keV\n",
      " Data missing 10.119553226295414 +/- 0.0075476182393344905\n",
      " Simulation missing 5.711902013712152 +/- 0.004319257926408293\n",
      " Background involved 0.1328472695063968 +/- 0.0012219906155214368\n"
     ]
    }
   ],
   "source": [
    "import numpy as np\n",
    "\n",
    "def calculate_uncertainty_division(A, B, rho=0):\n",
    "    \"\"\"\n",
    "    Calculate the propagated uncertainty in z = A / B, \n",
    "    considering correlation between A and B.\n",
    "\n",
    "    Parameters:\n",
    "        A (float): Numerator value\n",
    "        B (float): Denominator value\n",
    "        sigma_A (float): Uncertainty in A\n",
    "        sigma_B (float): Uncertainty in B\n",
    "        rho (float): Correlation coefficient (-1 to 1). Default is 0 (independent).\n",
    "\n",
    "    Returns:\n",
    "        z (float): Result of A / B\n",
    "        sigma_z (float): Uncertainty in z\n",
    "    \"\"\"\n",
    "    sigma_A = np.sqrt(A)  # Assuming Poisson stats: sqrt(A)\n",
    "    sigma_B = np.sqrt(B)  \n",
    "    z = A / B\n",
    "    relative_uncertainty = np.sqrt(\n",
    "        (sigma_A / A) ** 2 + (sigma_B / B) ** 2 - 2 * rho * (sigma_A / A) * (sigma_B / B)\n",
    "    )\n",
    "    sigma_z = z * relative_uncertainty\n",
    "    return z, sigma_z\n",
    "\n",
    "\n",
    "\n",
    "print(\"Trigger 889 keV, Probing 1132 keV\")\n",
    "rho = 1\n",
    "A = 835850  # Numerator value\n",
    "B = 8259752  # Denominator value\n",
    "# Calculate uncertainty\n",
    "z, sigma_z = calculate_uncertainty_division(A, B, rho)\n",
    "print(f\" Data missing {z*100} +/- {sigma_z*100}\")\n",
    "\n",
    "A = 1012785\n",
    "B= 17731134\n",
    "z, sigma_z = calculate_uncertainty_division(A, B, rho)\n",
    "print(f\" Simulation missing {z*100} +/- {sigma_z*100}\")\n",
    "\n",
    "A = 46693*0.94/4\n",
    "B = 8259752\n",
    "z, sigma_z = calculate_uncertainty_division(A, B, rho)\n",
    "print(f\" Background involved {z*100} +/- {sigma_z*100}\")"
   ]
  },
  {
   "cell_type": "code",
   "execution_count": 10,
   "id": "bc0c07f4-9cbe-422f-a0ad-9b8b36880fd3",
   "metadata": {},
   "outputs": [
    {
     "name": "stdout",
     "output_type": "stream",
     "text": [
      "Trigger 1132 keV, Probing 889 keV\n",
      " Data missing 9.395413591314353 +/- 0.008204125000730466\n",
      " Simulation missing 9.203169606006838 +/- 0.007825622430514613\n",
      " Background involved 0.13714820025228466 +/- 0.0013764049263531016\n"
     ]
    }
   ],
   "source": [
    "print(\"Trigger 1132 keV, Probing 889 keV\")\n",
    "rho =1\n",
    "A = 630719  # Numerator value\n",
    "B = 6713052  # Denominator value\n",
    "# Calculate uncertainty\n",
    "z, sigma_z = calculate_uncertainty_division(A, B, rho)\n",
    "print(f\" Data missing {z*100} +/- {sigma_z*100}\")\n",
    "\n",
    "A = 671189\n",
    "B= 7293020\n",
    "z, sigma_z = calculate_uncertainty_division(A, B, rho)\n",
    "print(f\" Simulation missing {z*100} +/- {sigma_z*100}\")\n",
    "\n",
    "A = 39178*0.94/4\n",
    "B = 6713052\n",
    "z, sigma_z = calculate_uncertainty_division(A, B, rho)\n",
    "print(f\" Background involved {z*100} +/- {sigma_z*100}\")"
   ]
  },
  {
   "cell_type": "markdown",
   "id": "d56915ed-da45-4c11-8357-3cc9e2d8f52a",
   "metadata": {},
   "source": [
    "# Systematic Uncertainity"
   ]
  },
  {
   "cell_type": "markdown",
   "id": "aece2773-20d8-4799-83ef-c5079b6fd29b",
   "metadata": {},
   "source": [
    "1. Taken with timewindow = 100, 300, 500, 700, 900 ns\n",
    "2. energythreshold = 60, 80, 100, 120 keV"
   ]
  },
  {
   "cell_type": "code",
   "execution_count": 12,
   "id": "1a4a04ff-ddb7-49ce-869d-9b7c216522bf",
   "metadata": {},
   "outputs": [],
   "source": [
    "z_1132 = np.array([[12.08, 12.09, 12.12, 12.17], \n",
    "             [9.44, 9.5, 9.59, 9.72],\n",
    "             [9.02, 9.13, 9.26, 9.43],\n",
    "             [8.86, 8.97, 9.10, 9.27],\n",
    "             [8.7, 8.81, 8.94, 9.11]])\n",
    "\n",
    "\n",
    "z_889 = np.array([[11.35, 11.36, 11.39, 11.43], \n",
    "             [9.28, 9.33, 9.41, 9.53],\n",
    "             [8.92, 9.02, 9.14, 9.29],\n",
    "             [8.77, 8.87, 8.99, 9.14],\n",
    "             [8.62, 8.73, 8.84, 9]])"
   ]
  },
  {
   "cell_type": "code",
   "execution_count": 32,
   "id": "b4457fe1-5d47-434f-a4c0-c5fd39a9355f",
   "metadata": {},
   "outputs": [
    {
     "data": {
      "text/plain": [
       "(1.1886488127281325, 0.9472342635272439)"
      ]
     },
     "execution_count": 32,
     "metadata": {},
     "output_type": "execute_result"
    }
   ],
   "source": [
    "def systematic_error(matrix):\n",
    "    err_1 = np.std(matrix[2])   # at 500 ns but at 80, 100, 120, 140 keV\n",
    "    err_2 = np.std(matrix[:,2])  # at 100 keV but at 100-900 ns\n",
    "    return np.sqrt(err_1**2+err_2**2)\n",
    "\n",
    "systematic_error(z_1132), systematic_error(z_889)"
   ]
  },
  {
   "cell_type": "code",
   "execution_count": 20,
   "id": "a70630b4-a2a7-4fb0-adb5-d5f16e383eac",
   "metadata": {},
   "outputs": [
    {
     "data": {
      "text/plain": [
       "1.178785815998818"
      ]
     },
     "execution_count": 20,
     "metadata": {},
     "output_type": "execute_result"
    }
   ],
   "source": [
    "np.std(z_1132[:,2])  # at 100 keV but at 100-900 ns"
   ]
  },
  {
   "cell_type": "code",
   "execution_count": null,
   "id": "d160b17a-93fd-4797-8282-9ce76b400451",
   "metadata": {},
   "outputs": [],
   "source": []
  },
  {
   "cell_type": "code",
   "execution_count": 25,
   "id": "9b3d4cf5-b24c-4d15-b484-6cb9fa1e07f6",
   "metadata": {},
   "outputs": [
    {
     "name": "stdout",
     "output_type": "stream",
     "text": [
      "Correlation between the two parameters: 0.00000\n"
     ]
    }
   ],
   "source": [
    "param1_values = np.array([100, 300, 500, 700, 900])  # Changing first parameter\n",
    "param2_values = np.array([60, 80, 100, 120])  # Changing second parameter\n",
    "\n",
    "data_flattened = z_1132.flatten()\n",
    "param1_expanded = np.repeat(param1_values, len(param2_values))  # Repeat each param1 value 5 times\n",
    "param2_expanded = np.tile(param2_values, len(param1_values))  # Repeat full param2 sequence 5 times\n",
    "\n",
    "# Compute Pearson correlation coefficient between the parameters\n",
    "correlation = np.corrcoef(param1_expanded, param2_expanded)[0, 1]\n",
    "\n",
    "print(f\"Correlation between the two parameters: {correlation:.5f}\")"
   ]
  },
  {
   "cell_type": "code",
   "execution_count": 28,
   "id": "f462587b-bf0c-42e7-ab4c-73f46fe3a3a2",
   "metadata": {},
   "outputs": [
    {
     "data": {
      "text/plain": [
       "array([[1., 0.],\n",
       "       [0., 1.]])"
      ]
     },
     "execution_count": 28,
     "metadata": {},
     "output_type": "execute_result"
    }
   ],
   "source": [
    "np.corrcoef(param1_expanded, param2_expanded)"
   ]
  },
  {
   "cell_type": "code",
   "execution_count": null,
   "id": "b41797d9-a986-4f50-97d0-4b02ebe09b72",
   "metadata": {},
   "outputs": [],
   "source": []
  }
 ],
 "metadata": {
  "kernelspec": {
   "display_name": "Python 3 (ipykernel)",
   "language": "python",
   "name": "python3"
  },
  "language_info": {
   "codemirror_mode": {
    "name": "ipython",
    "version": 3
   },
   "file_extension": ".py",
   "mimetype": "text/x-python",
   "name": "python",
   "nbconvert_exporter": "python",
   "pygments_lexer": "ipython3",
   "version": "3.9.1"
  }
 },
 "nbformat": 4,
 "nbformat_minor": 5
}
