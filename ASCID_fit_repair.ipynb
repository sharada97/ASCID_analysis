{
 "cells": [
  {
   "cell_type": "code",
   "execution_count": 1,
   "id": "fbcf0955-b039-4d38-9ca8-0a17b7a897d6",
   "metadata": {},
   "outputs": [
    {
     "name": "stdout",
     "output_type": "stream",
     "text": [
      "Folder name ../RUN5/Sc46/DAQ/Take2\\CsI_Sc46_1\n"
     ]
    }
   ],
   "source": [
    "from ASCID_fit import *"
   ]
  },
  {
   "cell_type": "code",
   "execution_count": 2,
   "id": "2c6d2794-d3b9-4eaa-8007-43476338bded",
   "metadata": {},
   "outputs": [
    {
     "name": "stdout",
     "output_type": "stream",
     "text": [
      "file 0 done\n",
      "file 1 done\n",
      "file 2 done\n",
      "file 3 done\n",
      "file 4 done\n",
      "file 5 done\n",
      "file 6 done\n",
      "file 7 done\n",
      "file 8 done\n",
      "file 9 done\n",
      "file 10 done\n",
      "file 11 done\n",
      "file 12 done\n",
      "file 13 done\n",
      "file 14 done\n",
      "file 15 done\n",
      "file 16 done\n",
      "file 17 done\n",
      "file 18 done\n",
      "file 19 done\n",
      "file 20 done\n",
      "file 21 done\n",
      "file 22 done\n",
      "file 23 done\n",
      "file 24 done\n",
      "file 25 done\n",
      "file 26 done\n",
      "file 27 done\n",
      "file 28 done\n",
      "file 29 done\n",
      "file 30 done\n",
      "file 31 done\n",
      "file 32 done\n",
      "file 33 done\n",
      "file 34 done\n",
      "file 35 done\n",
      "file 36 done\n",
      "Total Time for this data set is 900 s\n"
     ]
    }
   ],
   "source": [
    "files = glob.glob('%s/RAW/*.CSV'%read_folder)\n",
    "data = read_data(files)\n",
    "energyPlot = data_preprocess(data)"
   ]
  },
  {
   "cell_type": "code",
   "execution_count": 1,
   "id": "fc6953b6-4593-4955-9b5d-975b12aeea67",
   "metadata": {},
   "outputs": [
    {
     "ename": "KeyboardInterrupt",
     "evalue": "",
     "output_type": "error",
     "traceback": [
      "\u001b[1;31m---------------------------------------------------------------------------\u001b[0m",
      "\u001b[1;31mKeyboardInterrupt\u001b[0m                         Traceback (most recent call last)",
      "Cell \u001b[1;32mIn[1], line 9\u001b[0m\n\u001b[0;32m      7\u001b[0m \u001b[38;5;28;01mwhile\u001b[39;00m \u001b[38;5;28;01mTrue\u001b[39;00m:\n\u001b[0;32m      8\u001b[0m     pyautogui\u001b[38;5;241m.\u001b[39mmoveRel(\u001b[38;5;241m10\u001b[39m, \u001b[38;5;241m0\u001b[39m, duration\u001b[38;5;241m=\u001b[39m\u001b[38;5;241m0.1\u001b[39m)  \u001b[38;5;66;03m# Move 10 pixels to the right\u001b[39;00m\n\u001b[1;32m----> 9\u001b[0m     \u001b[43mtime\u001b[49m\u001b[38;5;241;43m.\u001b[39;49m\u001b[43msleep\u001b[49m\u001b[43m(\u001b[49m\u001b[38;5;241;43m60\u001b[39;49m\u001b[43m)\u001b[49m                         \u001b[38;5;66;03m# Wait for 60 seconds\u001b[39;00m\n\u001b[0;32m     10\u001b[0m     pyautogui\u001b[38;5;241m.\u001b[39mmoveRel(\u001b[38;5;241m-\u001b[39m\u001b[38;5;241m10\u001b[39m, \u001b[38;5;241m0\u001b[39m, duration\u001b[38;5;241m=\u001b[39m\u001b[38;5;241m0.1\u001b[39m)\n",
      "\u001b[1;31mKeyboardInterrupt\u001b[0m: "
     ]
    }
   ],
   "source": [
    "import pyautogui\n",
    "import time\n",
    "\n",
    "pyautogui.FAILSAFE = False\n",
    "\n",
    "\n",
    "while True:\n",
    "    pyautogui.moveRel(10, 0, duration=0.1)  # Move 10 pixels to the right\n",
    "    time.sleep(60)                         # Wait for 60 seconds\n",
    "    pyautogui.moveRel(-10, 0, duration=0.1)  # Move back 10 pixels to the left\n"
   ]
  },
  {
   "cell_type": "code",
   "execution_count": null,
   "id": "89451e3d-a605-45a1-8f8e-761dd30acdc1",
   "metadata": {},
   "outputs": [],
   "source": []
  }
 ],
 "metadata": {
  "kernelspec": {
   "display_name": "Python 3 (ipykernel)",
   "language": "python",
   "name": "python3"
  },
  "language_info": {
   "codemirror_mode": {
    "name": "ipython",
    "version": 3
   },
   "file_extension": ".py",
   "mimetype": "text/x-python",
   "name": "python",
   "nbconvert_exporter": "python",
   "pygments_lexer": "ipython3",
   "version": "3.9.1"
  }
 },
 "nbformat": 4,
 "nbformat_minor": 5
}
