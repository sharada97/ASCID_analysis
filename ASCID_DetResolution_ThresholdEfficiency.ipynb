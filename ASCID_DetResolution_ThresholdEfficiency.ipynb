{
 "cells": [
  {
   "cell_type": "code",
   "execution_count": 28,
   "id": "8bb4de0a-d774-4367-94b9-33a7af515578",
   "metadata": {},
   "outputs": [],
   "source": [
    "import numpy as np\n",
    "import matplotlib.pyplot as plt\n",
    "from natsort import natsorted\n",
    "import os\n",
    "import csv\n",
    "import pandas as pd\n",
    "from scipy.optimize import curve_fit\n",
    "import glob\n",
    "import pickle\n",
    "from matplotlib.colors import LogNorm\n",
    "from scipy.signal import find_peaks, savgol_filter"
   ]
  },
  {
   "cell_type": "code",
   "execution_count": 29,
   "id": "1ad117a0-25e8-4d0e-bf12-de2f3fd87027",
   "metadata": {},
   "outputs": [],
   "source": [
    "def label(x,y,a,b,pur=\"all\"):\n",
    "    plt.xlabel(x,fontsize=18)\n",
    "    plt.ylabel(y,fontsize=18)\n",
    "    if pur==\"all\":\n",
    "        plt.rcParams['figure.figsize'] = [a,b]\n",
    "    elif pur==\"chi2\":\n",
    "        plt.title(\"Chi2 Analysis, S-%s, Channel %s\"%(a,b), fontsize=20)\n",
    "    plt.tick_params(axis='x', labelsize=14)\n",
    "    plt.tick_params(axis='y', labelsize=14)\n",
    "    return \n",
    "\n",
    "def gaus_fit(ri,rf,fx,fy,nm=\"norm\"):\n",
    "    from scipy.optimize import curve_fit\n",
    "    def gaus(x,a,x0,sigma):\n",
    "        return a*np.exp(-(x-x0)**2/(2*sigma**2))\n",
    "    from scipy.stats import chisquare\n",
    "    b=len(bins)-1\n",
    "    hist_PI=[]\n",
    "    for j in range(b):\n",
    "        if ri<=bins[j]<=rf:                                                          #Bins range for gauss fit\n",
    "            hist_PI.extend([j])\n",
    "    x=bins[hist_PI]+(bins[1]-bins[0])/2\n",
    "    y=n[hist_PI]\n",
    "    l = len(x)\n",
    "    mean = sum(x * y) / sum(y)\n",
    "    sigma = np.sqrt(sum(y * (x - mean)**2) / sum(y))#the number of data\n",
    "    popt,pcov = curve_fit(gaus,x,y, p0=[max(y), mean, sigma])\n",
    "    m=x[1]-x[0]\n",
    "    X=np.arange(x.min(),x.max(),m/10)\n",
    "#     chi2=chisquare(n[hist_PI],f_exp=gaus(x,*popt))\n",
    "#     b=chi2[0]/(len(hist_PI)-3)\n",
    "    if nm==\"norm\":\n",
    "        textstr = '\\n'.join((\n",
    "        r'$\\mu=%.2f \\pm %.2f$ ADC' % (popt[1], np.sqrt(pcov[1,1])),\n",
    "        r'$\\sigma=%.2f \\pm %.2f$ ADC' % (popt[2], np.sqrt(pcov[2,2]))\n",
    "        ))               #\"r'$\\chi^2/Dof=%.2f$' % (b, )\"\n",
    "    elif nm==\"keV\":\n",
    "        textstr = '\\n'.join((\n",
    "            r'$\\mu=%.2f \\pm %.1f$ keV' % (popt[1], np.sqrt(pcov[1,1])),\n",
    "            r'$\\sigma=%.2f \\pm %.1f$ keV' % (popt[2], np.sqrt(pcov[2,2]))\n",
    "            )) \n",
    "    elif nm==\"keV_br\":\n",
    "        textstr = '\\n'.join((\n",
    "            r'$\\mu=%.2f \\pm %.2f$ eV' % (popt[1]*1000, np.sqrt(pcov[1,1])*1000),\n",
    "            r'$\\sigma=%.2f \\pm %.2f$ eV' % (popt[2]*1000, np.sqrt(pcov[2,2])*1000)\n",
    "            ))               #\"r'$\\chi^2/Dof=%.2f$' % (b, )\"\n",
    "    props = dict(boxstyle='round', facecolor='wheat', alpha=0.5)\n",
    "    plt.text(fx, fy, textstr, fontsize=12,\n",
    "             \n",
    "             verticalalignment='top', bbox=props)\n",
    "    return popt[0], popt[1],popt[2],plt.plot(X,gaus(X,*popt),'r')"
   ]
  },
  {
   "cell_type": "code",
   "execution_count": 31,
   "id": "50683a89-75fc-4445-b9bf-0174d4e885ea",
   "metadata": {},
   "outputs": [
    {
     "name": "stdout",
     "output_type": "stream",
     "text": [
      "Folder name E:/RUN5/Take5/Ba133/DAQ\\CsI_Ba133\n"
     ]
    }
   ],
   "source": [
    "N_det=26+11\n",
    "Det_Comb=21\n",
    "\n",
    "energyThreshold = 100\n",
    "timeWindow=5e-7\n",
    "Date=\"103024\"\n",
    "         #Not required if you are doing the full run. \n",
    "#first cut_data event or 2nd, Ex: index=0 means collecting first 60 second of data and \n",
    "                                 #index=1 means collecting second 60 second of data and so on...     \n",
    "# run_index=0      #int(sys.argv[1])    #Type the index of run mentioned in the data file, required while taking multiple dataset \n",
    "\n",
    "\n",
    "activity = 1.47\n",
    "cut_data= 100               #Select the required second of data\n",
    "source = 'Ba133'\n",
    "read_folder_all=glob.glob(\"E:/RUN5/Take5/Ba133/DAQ/CsI_Ba13*\")                   #reading data folder\n",
    "Total_folder = len(read_folder_all)\n",
    "read_folder_all.sort(key=lambda x: os.stat(x).st_ctime)\n",
    "folder_index = 0\n",
    "read_folder= read_folder_all[folder_index]            #glob.glob(\"../RUN4/Sc46/DAQ/*\")\n",
    "save_folder=\"E:/RUN5/Take5/Ba133//Figures\" \n",
    "\n",
    "print(f\"Folder name {read_folder_all[folder_index]}\")\n",
    "index=0\n",
    "\n",
    "innerChannel=np.arange(16,26)\n",
    "\n",
    "date=\"%s\"%(Date)\n",
    "serial=np.array([\"1st\",\"2nd\",\"3rd\",\"4th\",\"5th\",\"6th\", \"7th\", \"8th\"])\n",
    "save_folder_each = os.path.join(save_folder, \"Folder_%d\"%folder_index)"
   ]
  },
  {
   "cell_type": "code",
   "execution_count": 9,
   "id": "e61e9427-5403-418e-92bb-f4d0c952eea7",
   "metadata": {},
   "outputs": [
    {
     "name": "stdout",
     "output_type": "stream",
     "text": [
      "file 0 done\n",
      "file 1 done\n",
      "file 2 done\n",
      "file 3 done\n",
      "file 4 done\n",
      "file 5 done\n",
      "file 6 done\n",
      "file 7 done\n",
      "file 8 done\n",
      "file 9 done\n",
      "file 10 done\n",
      "file 11 done\n",
      "file 12 done\n",
      "file 13 done\n",
      "file 14 done\n",
      "file 15 done\n",
      "file 16 done\n",
      "file 17 done\n",
      "file 18 done\n",
      "file 19 done\n",
      "file 20 done\n",
      "file 21 done\n",
      "file 22 done\n",
      "file 23 done\n",
      "file 24 done\n",
      "file 25 done\n",
      "Total Time for this data set is 100 s\n"
     ]
    }
   ],
   "source": [
    "files = glob.glob('%s/RAW/*.CSV'%read_folder)\n",
    "files=natsorted(files)[0:26]\n",
    "# files = files\n",
    "# print(files)\n",
    "MinTime=np.zeros(N_det)\n",
    "for nf,nfile in enumerate(files):\n",
    "    # nfile1 = os.path.join(folder_path, nfile)\n",
    "    file = open(nfile)\n",
    "    csvreader = csv.reader(file, delimiter = ';')\n",
    "    header = next(csvreader)\n",
    "    line_count = 0\n",
    "    for row in csvreader:\n",
    "        if line_count == 0:\n",
    "            MinTime[nf] = float(row[2]) * 1e-12\n",
    "            break\n",
    "minTime=np.min(MinTime)\n",
    "\n",
    "\n",
    "# In[5]:\n",
    "\n",
    "data=[]\n",
    "for j in range(3):                                     #3=channel, time, calib. energy\n",
    "    b=[]\n",
    "    data.append(b)\n",
    "nEvent=np.zeros(len(files))\n",
    "for nf,nfile in enumerate(files):\n",
    "    # nfile1 = os.path.join(folder_path, nfile)\n",
    "    file = open(nfile)\n",
    "    csvreader = csv.reader(file, delimiter = ';')\n",
    "    header = next(csvreader)\n",
    "    line_count = 0\n",
    "    for row in csvreader:\n",
    "        if float(row[2])*1e-12 - minTime>=cut_data*index:\n",
    "            data[0].append(int(row[1]))\n",
    "            data[1].append(float(row[2])*1e-12 - minTime)\n",
    "            data[2].append(float(row[3]))     # row[4] = Caliberated energy, row[3] = ADC energy sometime, else row[3] = Caliberated energy\n",
    "            line_count += 1\n",
    "            # if line_count%1000000==0:\n",
    "            #     print(\"%d M data loaded\"%int(line_count/1000000))\n",
    "            if float(row[2])*1e-12 - minTime>cut_data*(index+1):\n",
    "                data[0].pop()\n",
    "                data[1].pop()\n",
    "                data[2].pop()\n",
    "                break\n",
    "    nEvent[nf]=line_count-1\n",
    "    print(\"file %d done\"%nf)\n",
    "nEvents=int(nEvent.sum())\n",
    "\n",
    "\n",
    "\n",
    "Data_Time=round((data[1][nEvents-1]-data[1][0]),0)\n",
    "print(\"Total Time for this data set is %d s\"%Data_Time)"
   ]
  },
  {
   "cell_type": "code",
   "execution_count": null,
   "id": "1a48922a-d0a6-48bd-b5bb-f0fad5606284",
   "metadata": {},
   "outputs": [],
   "source": []
  },
  {
   "cell_type": "code",
   "execution_count": 10,
   "id": "ebeb9612-ec4b-4682-ae89-e9bfe2b47587",
   "metadata": {},
   "outputs": [],
   "source": [
    "nEvents = len(data[0])\n",
    "energyPlot=[[] for _ in range(26)]\n",
    "for i in range(nEvents):\n",
    "    if data[0][i] < 26:\n",
    "        energyPlot[int(data[0][i])].extend([data[2][i]])"
   ]
  },
  {
   "cell_type": "code",
   "execution_count": 11,
   "id": "6e0dc948-2a85-4985-b93f-1fe67cb57704",
   "metadata": {},
   "outputs": [],
   "source": [
    "mean = np.array([30.93, 45.15,47.66, 38.26, 52.63,     46.61, 40.73, 75.99, 39.51, 56.96,      32.3, 82.92, 74.96, 26.51, 90.15,\n",
    "                25.1, 47.35, 44.57, 43.99, 53.14,     41.35, 42.5, 49.62, 24.81, 76.86, 105.77])\n",
    "Mean = np.zeros(26)"
   ]
  },
  {
   "cell_type": "code",
   "execution_count": 26,
   "id": "27f3df4b-3ccc-48d6-b9e0-94740a7a4c3e",
   "metadata": {},
   "outputs": [],
   "source": [
    "def find_1peaks(x, y, channel, window_length, folder):\n",
    "    from scipy.signal import find_peaks\n",
    "    from scipy.signal import find_peaks, savgol_filter\n",
    "    y_smooth = savgol_filter(y, window_length, polyorder=3)\n",
    "    \n",
    "    # Find the minimum value of the spectrum\n",
    "    min_value = np.min(x)\n",
    "    max_value = np.max(x)\n",
    "    \n",
    "    # Define the threshold as 20% of the minimum value\n",
    "    threshold = 0.4 * max_value + min_value \n",
    "    \n",
    "    # Create a mask to select the data points where y is greater than 20% of the minimum value\n",
    "    mask = x >= threshold\n",
    "    \n",
    "    # Subset the data starting from the point where the values are above the threshold\n",
    "    x_subset = x[mask]\n",
    "    y_subset = y_smooth[mask]\n",
    "    \n",
    "    # Find peaks in the subset of the data\n",
    "    peaks, _ = find_peaks(y_subset, distance=10, height=0)  # Adjust distance to ensure separation\n",
    "    \n",
    "    # If no peaks are found, you can handle it accordingly\n",
    "    if len(peaks) > 0:\n",
    "        # Get the index of the single highest peak in the subset\n",
    "        top_peak_idx = np.argmax(y_subset[peaks])\n",
    "        peak_x = x_subset[peaks[top_peak_idx]]\n",
    "        peak_y = y_subset[peaks[top_peak_idx]]\n",
    "    else:\n",
    "        peak_x = None\n",
    "        peak_y = None\n",
    "    \n",
    "    # Print the results\n",
    "    print(f\"Peak found at x = {peak_x}, y = {peak_y}\")\n",
    "\n",
    "    \n",
    "    textstr = r'$\\mu=%d $ ADC' %(peak_x)                        #\"r'$\\chi^2/Dof=%.2f$' % (b, )\"\n",
    "    props = dict(boxstyle='round', facecolor='wheat', alpha=0.5)\n",
    "    plt.text(int(peak_x), int(peak_y/2), textstr, fontsize=12,\n",
    "             verticalalignment='top', bbox=props)\n",
    "    \n",
    "    # Plot the original data, smoothed data, and the detected peak\n",
    "    plt.plot(x, y, label='Original Data', alpha=0.5)\n",
    "    plt.plot(x, y_smooth, label='Smoothed Data', color='orange', linewidth=2)\n",
    "    if peak_x is not None:\n",
    "        plt.scatter(peak_x, peak_y, color='red', label='Detected Peak', zorder=5)\n",
    "    plt.legend()\n",
    "    # plt.yscale(\"log\")\n",
    "    plt.xlabel('x')\n",
    "    plt.ylabel('y')\n",
    "    plt.title('Peak Detection, channel %d'%channel)\n",
    "    # plt.show()\n",
    "    plt.savefig(\"%s/Energy_Ch%d.jpg\"%(folder,channel))\n",
    "    plt.close()\n",
    "    return peak_x"
   ]
  },
  {
   "cell_type": "code",
   "execution_count": 27,
   "id": "87ffed8f-709a-4890-838a-1632d361ff06",
   "metadata": {},
   "outputs": [
    {
     "name": "stdout",
     "output_type": "stream",
     "text": [
      "Peak found at x = 32.0, y = 50.028571428571446\n",
      "fit channel 0 done, mean value found (32.0, 32.0), given (30.93, 30.93)\n"
     ]
    }
   ],
   "source": [
    "for k in range(1):\n",
    "    bin_last=mean[k]*2\n",
    "    bin_start = 4 if mean[k] < 40 else 10\n",
    "    bin_w = 1 if mean[k] < 40 else 2\n",
    "    n,bins=np.histogram(energyPlot[k], bins=np.arange(bin_start,bin_last,bin_w))\n",
    "    bin_centers = bins[1:]\n",
    "\n",
    "    window_length = int(mean[k]/6)   #length of the window this and that side of mean\n",
    "    # Mean[k, :] = find_peaks(bin_centers, n, k, window_length, min_distance, full_path)\n",
    "    Mean[k] = find_1peaks(bin_centers, n, k, window_length, save_folder_each)\n",
    "    \n",
    "    print(f\"fit channel {k} done, mean value found {Mean[k], Mean[k]}, given {mean[k], mean[k]}\")"
   ]
  },
  {
   "cell_type": "code",
   "execution_count": null,
   "id": "94b2a6c3-5781-4255-90ae-6e01108a939b",
   "metadata": {},
   "outputs": [],
   "source": []
  },
  {
   "cell_type": "code",
   "execution_count": 319,
   "id": "2022fa4f-fb8b-497c-acc9-7b7fa99b266a",
   "metadata": {},
   "outputs": [
    {
     "name": "stdout",
     "output_type": "stream",
     "text": [
      "Calibration done\n"
     ]
    }
   ],
   "source": [
    "nEvents = len(data[0])\n",
    "for j in range(nEvents):\n",
    "    if data[0][j]<26:\n",
    "        data[2][j]=data[2][j]/Mean[int(data[0][j])]*356\n",
    "print(\"Calibration done\")"
   ]
  },
  {
   "cell_type": "code",
   "execution_count": 320,
   "id": "341d1ba8-415c-4cda-9a42-693c3a7aebeb",
   "metadata": {},
   "outputs": [
    {
     "name": "stdout",
     "output_type": "stream",
     "text": [
      "0 M done\n",
      "1 M done\n",
      "2 M done\n",
      "3 M done\n",
      "4 M done\n",
      "5 M done\n",
      "6 M done\n",
      "7 M done\n",
      "8 M done\n",
      "9 M done\n",
      "10 M done\n",
      "11 M done\n",
      "12 M done\n",
      "13 M done\n",
      "14 M done\n",
      "15 M done\n",
      "16 M done\n",
      "17 M done\n",
      "18 M done\n",
      "19 M done\n",
      "20 M done\n",
      "21 M done\n",
      "22 M done\n",
      "23 M done\n",
      "24 M done\n",
      "25 M done\n"
     ]
    }
   ],
   "source": [
    "Count_raw = np.zeros((200, 26))\n",
    "for j in  range(nEvents):\n",
    "    for index, E in enumerate(range(0, 2000, 10)):\n",
    "        if E <= data[2][j]< E+10 and data[0][j]<30:\n",
    "            Count_raw[index, data[0][j]]+= 1\n",
    "    if j%1000000==0:\n",
    "        print('%d M done'%int(j/1000000))"
   ]
  },
  {
   "cell_type": "code",
   "execution_count": 316,
   "id": "133a8c0d-ef35-455e-a939-a523ce925889",
   "metadata": {},
   "outputs": [
    {
     "name": "stdout",
     "output_type": "stream",
     "text": [
      "0 M done\n",
      "1 M done\n",
      "2 M done\n",
      "3 M done\n",
      "4 M done\n",
      "5 M done\n"
     ]
    },
    {
     "ename": "IndexError",
     "evalue": "index 41 is out of bounds for axis 1 with size 26",
     "output_type": "error",
     "traceback": [
      "\u001b[1;31m---------------------------------------------------------------------------\u001b[0m",
      "\u001b[1;31mIndexError\u001b[0m                                Traceback (most recent call last)",
      "Cell \u001b[1;32mIn[316], line 5\u001b[0m\n\u001b[0;32m      3\u001b[0m \u001b[38;5;28;01mfor\u001b[39;00m index, E \u001b[38;5;129;01min\u001b[39;00m \u001b[38;5;28menumerate\u001b[39m(\u001b[38;5;28mrange\u001b[39m(\u001b[38;5;241m0\u001b[39m, \u001b[38;5;241m2000\u001b[39m, \u001b[38;5;241m10\u001b[39m)):\n\u001b[0;32m      4\u001b[0m     \u001b[38;5;28;01mif\u001b[39;00m E \u001b[38;5;241m<\u001b[39m\u001b[38;5;241m=\u001b[39m data[\u001b[38;5;241m2\u001b[39m][j]\u001b[38;5;241m<\u001b[39m E\u001b[38;5;241m+\u001b[39m\u001b[38;5;241m10\u001b[39m:\n\u001b[1;32m----> 5\u001b[0m         Count_data[index, data[\u001b[38;5;241m0\u001b[39m][j]]\u001b[38;5;241m+\u001b[39m\u001b[38;5;241m=\u001b[39m \u001b[38;5;241m1\u001b[39m\n\u001b[0;32m      6\u001b[0m \u001b[38;5;28;01mif\u001b[39;00m j\u001b[38;5;241m%\u001b[39m\u001b[38;5;241m1000000\u001b[39m\u001b[38;5;241m==\u001b[39m\u001b[38;5;241m0\u001b[39m:\n\u001b[0;32m      7\u001b[0m     \u001b[38;5;28mprint\u001b[39m(\u001b[38;5;124m'\u001b[39m\u001b[38;5;132;01m%d\u001b[39;00m\u001b[38;5;124m M done\u001b[39m\u001b[38;5;124m'\u001b[39m\u001b[38;5;241m%\u001b[39m\u001b[38;5;28mint\u001b[39m(j\u001b[38;5;241m/\u001b[39m\u001b[38;5;241m1000000\u001b[39m))\n",
      "\u001b[1;31mIndexError\u001b[0m: index 41 is out of bounds for axis 1 with size 26"
     ]
    }
   ],
   "source": [
    "Count_data = np.zeros((200, 26))\n",
    "for j in  range(nEvents):\n",
    "    for index, E in enumerate(range(0, 2000, 10)):\n",
    "        if E <= data[2][j]< E+10 and data[0][j]<30:\n",
    "            Count_data[index, data[0][j]]+= 1\n",
    "    if j%1000000==0:\n",
    "        print('%d M done'%int(j/1000000))"
   ]
  },
  {
   "cell_type": "code",
   "execution_count": 321,
   "id": "4ead1123-0989-419e-a32a-6189aa317ca1",
   "metadata": {},
   "outputs": [],
   "source": [
    "def efficiency(z, a, b, c, d):\n",
    "    return a*scipy.special.erf(d*z-c)+b"
   ]
  },
  {
   "cell_type": "code",
   "execution_count": 341,
   "id": "f33042bb-8f8c-4056-bba7-bbc66a418767",
   "metadata": {},
   "outputs": [],
   "source": [
    "Count_data_new = np.array([sum(Count_data[i:i+5, c]) for i in range(30, 150)], dtype = int)\n",
    "Count_raw_new = np.array([sum(Count_raw[i:i+5, c]) for i in range(30, 150)], dtype = int)\n",
    "\n",
    "Count_data_new = np.concatenate((Count_data[0:30, c], Count_data_new))\n",
    "Count_raw_new = np.concatenate((Count_raw[0:30, c], Count_raw_new))"
   ]
  },
  {
   "cell_type": "code",
   "execution_count": 349,
   "id": "93f08da5-8230-4137-a559-4e1941496f61",
   "metadata": {},
   "outputs": [
    {
     "data": {
      "text/plain": [
       "30"
      ]
     },
     "execution_count": 349,
     "metadata": {},
     "output_type": "execute_result"
    }
   ],
   "source": [
    "len(Count_data[0:30, c])"
   ]
  },
  {
   "cell_type": "code",
   "execution_count": 350,
   "id": "e3885a2f-c8c4-4dbf-b4e7-f811db75143e",
   "metadata": {},
   "outputs": [
    {
     "name": "stderr",
     "output_type": "stream",
     "text": [
      "C:\\Users\\sharada\\AppData\\Local\\Temp\\ipykernel_6724\\3986804037.py:10: RuntimeWarning: invalid value encountered in divide\n",
      "  Efficiency = Count_data_new/Count_raw_new\n"
     ]
    },
    {
     "name": "stdout",
     "output_type": "stream",
     "text": [
      "0 done\n",
      "1 done\n",
      "2 done\n",
      "3 done\n",
      "4 done\n",
      "5 done\n",
      "6 done\n",
      "7 done\n",
      "8 done\n",
      "9 done\n",
      "10 done\n",
      "11 done\n"
     ]
    },
    {
     "name": "stderr",
     "output_type": "stream",
     "text": [
      "C:\\Users\\sharada\\AppData\\Local\\Temp\\ipykernel_6724\\3986804037.py:10: RuntimeWarning: invalid value encountered in divide\n",
      "  Efficiency = Count_data_new/Count_raw_new\n"
     ]
    },
    {
     "name": "stdout",
     "output_type": "stream",
     "text": [
      "12 done\n",
      "13 done\n",
      "14 done\n"
     ]
    },
    {
     "name": "stderr",
     "output_type": "stream",
     "text": [
      "C:\\Users\\sharada\\AppData\\Local\\Temp\\ipykernel_6724\\3986804037.py:10: RuntimeWarning: invalid value encountered in divide\n",
      "  Efficiency = Count_data_new/Count_raw_new\n",
      "C:\\Users\\sharada\\AppData\\Local\\Temp\\ipykernel_6724\\3986804037.py:10: RuntimeWarning: invalid value encountered in divide\n",
      "  Efficiency = Count_data_new/Count_raw_new\n"
     ]
    },
    {
     "name": "stdout",
     "output_type": "stream",
     "text": [
      "15 done\n",
      "16 done\n",
      "17 done\n"
     ]
    },
    {
     "name": "stderr",
     "output_type": "stream",
     "text": [
      "C:\\Users\\sharada\\AppData\\Local\\Temp\\ipykernel_6724\\3986804037.py:10: RuntimeWarning: divide by zero encountered in divide\n",
      "  Efficiency = Count_data_new/Count_raw_new\n",
      "C:\\Users\\sharada\\AppData\\Local\\Temp\\ipykernel_6724\\3986804037.py:10: RuntimeWarning: divide by zero encountered in divide\n",
      "  Efficiency = Count_data_new/Count_raw_new\n",
      "C:\\Users\\sharada\\AppData\\Local\\Temp\\ipykernel_6724\\3986804037.py:10: RuntimeWarning: divide by zero encountered in divide\n",
      "  Efficiency = Count_data_new/Count_raw_new\n",
      "C:\\Users\\sharada\\AppData\\Local\\Temp\\ipykernel_6724\\3986804037.py:10: RuntimeWarning: divide by zero encountered in divide\n",
      "  Efficiency = Count_data_new/Count_raw_new\n"
     ]
    },
    {
     "name": "stdout",
     "output_type": "stream",
     "text": [
      "18 done\n",
      "19 done\n",
      "20 done\n",
      "21 done\n"
     ]
    },
    {
     "name": "stderr",
     "output_type": "stream",
     "text": [
      "C:\\Users\\sharada\\AppData\\Local\\Temp\\ipykernel_6724\\3986804037.py:10: RuntimeWarning: divide by zero encountered in divide\n",
      "  Efficiency = Count_data_new/Count_raw_new\n",
      "C:\\Users\\sharada\\AppData\\Local\\Temp\\ipykernel_6724\\3986804037.py:10: RuntimeWarning: divide by zero encountered in divide\n",
      "  Efficiency = Count_data_new/Count_raw_new\n",
      "C:\\Users\\sharada\\AppData\\Local\\Temp\\ipykernel_6724\\3986804037.py:10: RuntimeWarning: divide by zero encountered in divide\n",
      "  Efficiency = Count_data_new/Count_raw_new\n",
      "C:\\Users\\sharada\\AppData\\Local\\Temp\\ipykernel_6724\\3986804037.py:10: RuntimeWarning: invalid value encountered in divide\n",
      "  Efficiency = Count_data_new/Count_raw_new\n"
     ]
    },
    {
     "name": "stdout",
     "output_type": "stream",
     "text": [
      "22 done\n",
      "23 done\n",
      "24 done\n",
      "25 done\n"
     ]
    },
    {
     "name": "stderr",
     "output_type": "stream",
     "text": [
      "C:\\Users\\sharada\\AppData\\Local\\Temp\\ipykernel_6724\\3986804037.py:10: RuntimeWarning: divide by zero encountered in divide\n",
      "  Efficiency = Count_data_new/Count_raw_new\n",
      "C:\\Users\\sharada\\AppData\\Local\\Temp\\ipykernel_6724\\3986804037.py:10: RuntimeWarning: divide by zero encountered in divide\n",
      "  Efficiency = Count_data_new/Count_raw_new\n"
     ]
    }
   ],
   "source": [
    "popt_new = [[] for _ in range(26)]\n",
    "\n",
    "for c in range(26):\n",
    "    Count_data_new = np.array([sum(Count_data[i:i+5, c]) for i in range(30, 150, 5)], dtype = int)\n",
    "    Count_raw_new = np.array([sum(Count_raw[i:i+5, c]) for i in range(30, 150, 5)], dtype = int)\n",
    "    \n",
    "    Count_data_new = np.concatenate((Count_data[0:30, c], Count_data_new))\n",
    "    Count_raw_new = np.concatenate((Count_raw[0:30, c], Count_raw_new))\n",
    "    Energy = np.concatenate((np.arange(0, 300, 10), np.arange(300, 1500, 50)))\n",
    "    Efficiency = Count_data_new/Count_raw_new\n",
    "    plt.plot(Energy, Efficiency, \".\")\n",
    "    \n",
    "    # popt, pcov = curve_fit(efficiency, Energy, Efficiency)\n",
    "    # popt_new[c] = popt\n",
    "    # # plt.xlim(0, 250)\n",
    "    # plt.plot(Energy, efficiency(Energy, *popt))\n",
    "    label(\"Energy\", \"Sigma/Mu\", 8, 5)\n",
    "    plt.title(r\"Channel %d\"%(c), fontsize=16)\n",
    "    plt.savefig(\"E:RUN5/Take5/Efficiency/Efficiency_Ch%d.jpg\"%(c))\n",
    "    plt.close()\n",
    "    print(\"%d done\"%c)"
   ]
  },
  {
   "cell_type": "code",
   "execution_count": null,
   "id": "ef2fef14-a79a-4e90-97d4-8d57183641ed",
   "metadata": {},
   "outputs": [],
   "source": []
  },
  {
   "cell_type": "code",
   "execution_count": null,
   "id": "1baedc79-eeb1-456e-a372-85d4bcbf818d",
   "metadata": {},
   "outputs": [],
   "source": []
  },
  {
   "cell_type": "code",
   "execution_count": null,
   "id": "b32ab2cb-2ba1-4220-a081-b29899de977d",
   "metadata": {},
   "outputs": [],
   "source": []
  },
  {
   "cell_type": "code",
   "execution_count": null,
   "id": "99df9919-1f46-4a26-9100-dbf4571ad6cc",
   "metadata": {},
   "outputs": [],
   "source": []
  },
  {
   "cell_type": "code",
   "execution_count": 136,
   "id": "d934cacc-07f1-402d-93d5-fb89467a6094",
   "metadata": {},
   "outputs": [],
   "source": [
    "f = open('%s/DataInfo_Run.pickle'%save_folder, 'rb')\n",
    "dat = pickle.load(f)\n"
   ]
  },
  {
   "cell_type": "code",
   "execution_count": 137,
   "id": "7f7e7fcb-8836-44f5-bb35-1b12d0fd6641",
   "metadata": {},
   "outputs": [],
   "source": [
    "mean = dat['mean']"
   ]
  },
  {
   "cell_type": "code",
   "execution_count": 144,
   "id": "3f651880-fc19-4494-808a-bd4af2478fbd",
   "metadata": {},
   "outputs": [],
   "source": [
    "mean[:, 0] = np.array([80, 112, 130, 92, 84,   114, 106, 196, 90, 148,   80, 216, 184, 58, 224,    62, 116, 102, 100,136,     102, 102, 126, 62, 222, 238])"
   ]
  },
  {
   "cell_type": "code",
   "execution_count": 146,
   "id": "1bc56c5b-9cbe-4edb-8697-b3960e545b97",
   "metadata": {},
   "outputs": [],
   "source": [
    "mean[:, 1] = mean[:,0]/889*1132"
   ]
  },
  {
   "cell_type": "code",
   "execution_count": 194,
   "id": "ec5cf564-9f99-44d1-8a14-1aca83d00ac0",
   "metadata": {},
   "outputs": [],
   "source": [
    "for k in range(26):\n",
    "    bin_last=mean[k, 0]\n",
    "    bin_start = 4 if mean[k, 0] < 40 else 10\n",
    "    bin_w = 1 if mean[k, 0] < 40 else 2\n",
    "    n,bins, patches=plt.hist(energyPlot[k], bins=np.arange(bin_start,bin_last,bin_w), histtype=\"step\", label=\"%d events\"%len(energyPlot[k]))\n",
    "    label(\"Energy (ADC)\", \"Counts\", 10,5)\n",
    "    # plt.yscale(\"log\")\n",
    "    plt.title(r\"Channel %d Energy Spectrum- 15 min data (Ba133)\"%k, fontsize=16)\n",
    "    plt.savefig(\"%s/Pulse/EnergyCal_Ch%d.jpg\"%(save_folder_each,k))\n",
    "    plt.close()"
   ]
  },
  {
   "cell_type": "code",
   "execution_count": 195,
   "id": "0cdb29d7-4363-491d-8429-8a2471d4f0c5",
   "metadata": {},
   "outputs": [],
   "source": [
    "Mean, Sigma = np.zeros(26), np.zeros(26)"
   ]
  },
  {
   "cell_type": "code",
   "execution_count": 273,
   "id": "e740b254-2bcf-47be-8e9d-8fe0a91da6a0",
   "metadata": {},
   "outputs": [
    {
     "name": "stdout",
     "output_type": "stream",
     "text": [
      "25 done\n"
     ]
    }
   ],
   "source": [
    "#### k=15\n",
    "Energy_feature = [[] for _ in range(26)]\n",
    "\n",
    "# mean = np.array([60, 86, 92, 72, 66,   88, 80, 145, 70, 110,    62, 158, 136, 46, 168,     48, 90, 82, 80, 102,     80, 80, 94, 48, 140, 194])\n",
    "\n",
    "for k in [25]:\n",
    "    bin_last =  mean[k, 0]*0.9\n",
    "    bin_w=np.array([2,2,2,2,2,    2,2,2,2,2,    2,2,2,2,2,   1,2,2,2,2,  2,2,2,2,2,  2])\n",
    "    nevent = len(energyPlot[k])\n",
    "    n,bins, patches=plt.hist(energyPlot[k][0:int(nevent)], bins=np.arange(8,bin_last,bin_w[k]), histtype=\"step\", label=\"%d events\"%len(energyPlot[k]))\n",
    "    label(\"Energy (ADC)\", \"Counts\", 10,5)\n",
    "    # plt.yscale(\"log\")\n",
    "    Energy_feature[k].extend([n])\n",
    "    Energy_feature[k].extend([bins])\n",
    "    plt.title(r\"Channel %d Energy Spectrum- 15 min data (%s)\"%(k, source), fontsize=16)\n",
    "    factor1 = 2\n",
    "    factor2 = 2\n",
    "    \n",
    "    a1, Mean[k],Sigma[k], fig = gaus_fit(94, 125, bin_last/3,max(n)-max(n)/10)\n",
    "    # a2, Mean[k,1],Sigma[k,1], fig= gaus_fit(mean[k, 1] +2 - 16*factor1*0.65, mean[k, 1] + 18*factor2*0.65, bin_last/1.5, max(n)-max(n)/2)\n",
    "\n",
    "    plt.legend(fontsize=14)\n",
    "    plt.savefig(\"%s/Energy_Ch%d.jpg\"%(save_folder_each,k))\n",
    "    plt.close()\n",
    "    print(\"%d done\"%k)"
   ]
  },
  {
   "cell_type": "code",
   "execution_count": 274,
   "id": "80d35fe8-d472-4a12-8bb5-cc2e156fe8ae",
   "metadata": {},
   "outputs": [
    {
     "data": {
      "text/plain": [
       "(array([ 30.92701316,  45.1473533 ,  47.65599373,  38.26195902,\n",
       "         52.63034721,  46.61143786,  40.7303583 ,  75.9899937 ,\n",
       "         39.50898796,  56.95601542,  32.29804916,  82.92430748,\n",
       "         74.95977486,  26.51077623,  90.14599021,  25.10183644,\n",
       "         47.34613994,  44.56665029,  43.99294687,  53.14485156,\n",
       "         41.35306033,  42.49691108,  49.62066783,  24.81217013,\n",
       "         76.86120128, 105.76922156]),\n",
       " array([ 4.5261761 ,  5.73649571,  7.07241681,  5.40266249,  6.85112378,\n",
       "         5.13802255,  6.17700153,  8.32337681,  5.74389169,  6.76084945,\n",
       "         4.35082554,  8.13540773,  8.61524416,  4.77394511, 10.40995344,\n",
       "         3.02672871,  4.41207111,  6.17994709,  5.52371258,  6.95490601,\n",
       "         5.0803467 ,  6.61969149,  5.28702531,  4.8839151 ,  9.79922041,\n",
       "         9.58781654]))"
      ]
     },
     "execution_count": 274,
     "metadata": {},
     "output_type": "execute_result"
    }
   ],
   "source": [
    "Mean, Sigma"
   ]
  },
  {
   "cell_type": "code",
   "execution_count": 51,
   "id": "5094910d-cb7a-443d-af19-20374b6c54e8",
   "metadata": {},
   "outputs": [],
   "source": [
    "sigma_mu_Cs = Sigma/Mean"
   ]
  },
  {
   "cell_type": "code",
   "execution_count": 131,
   "id": "4edb6b88-7753-4e3c-b039-e12808e6164f",
   "metadata": {},
   "outputs": [],
   "source": [
    "sigma_mu_Na = Sigma/Mean"
   ]
  },
  {
   "cell_type": "code",
   "execution_count": 186,
   "id": "4275b010-ef71-4040-9f39-57261e43c032",
   "metadata": {},
   "outputs": [],
   "source": [
    "sigma_mu_Sc = Sigma/Mean"
   ]
  },
  {
   "cell_type": "code",
   "execution_count": 275,
   "id": "e7b16c03-8a0c-4385-8d2e-2b8ae676a7e0",
   "metadata": {},
   "outputs": [],
   "source": [
    "sigma_mu_Ba = Sigma/Mean"
   ]
  },
  {
   "cell_type": "code",
   "execution_count": 276,
   "id": "65915f3f-78d6-4309-8015-4ac6dd3e4677",
   "metadata": {},
   "outputs": [],
   "source": [
    "def resolution(N, c, d):\n",
    "    return c + d /np.sqrt(N)"
   ]
  },
  {
   "cell_type": "code",
   "execution_count": 281,
   "id": "dee9d8e3-07d2-4c71-ba90-97c8192b066b",
   "metadata": {},
   "outputs": [
    {
     "data": {
      "text/plain": [
       "array([0.11016266, 0.04727802])"
      ]
     },
     "execution_count": 281,
     "metadata": {},
     "output_type": "execute_result"
    }
   ],
   "source": [
    "sigma_mu_Na[1, :]"
   ]
  },
  {
   "cell_type": "code",
   "execution_count": 293,
   "id": "744c9488-257a-46c2-9a0e-a1b62e2c311b",
   "metadata": {},
   "outputs": [
    {
     "name": "stdout",
     "output_type": "stream",
     "text": [
      "0 done\n",
      "1 done\n",
      "2 done\n",
      "3 done\n",
      "4 done\n",
      "5 done\n",
      "6 done\n",
      "7 done\n",
      "8 done\n",
      "9 done\n",
      "10 done\n",
      "11 done\n",
      "12 done\n",
      "13 done\n",
      "14 done\n",
      "15 done\n",
      "16 done\n",
      "17 done\n",
      "18 done\n",
      "19 done\n",
      "20 done\n",
      "21 done\n",
      "22 done\n",
      "23 done\n",
      "24 done\n",
      "25 done\n"
     ]
    }
   ],
   "source": [
    "Energy = np.array([356, 511, 667, 1132, 1275])\n",
    "popt_new = [[] for _ in range(26)]\n",
    "\n",
    "for c in range(26):\n",
    "    Ratio = np.array([sigma_mu_Ba[c], sigma_mu_Na[c, 0], sigma_mu_Cs[c], sigma_mu_Sc[c, 1], sigma_mu_Na[c, 1]])\n",
    "    plt.plot(Energy, Ratio, \".\")\n",
    "\n",
    "    popt, pcov = curve_fit(resolution, Energy, Ratio)\n",
    "    popt_new[c] = popt\n",
    "    Energy1 = np.linspace(350, 1300, 100)\n",
    "    plt.plot(Energy1, resolution(Energy1, *popt))\n",
    "    label(\"Energy\", \"Sigma/Mu\", 8, 5)\n",
    "    plt.title(r\"Channel %d\"%(c), fontsize=16)\n",
    "    plt.savefig(\"E:RUN5/Take5/Sigma_Mu_Ch%d.jpg\"%(c))\n",
    "    plt.close()\n",
    "    print(\"%d done\"%c)"
   ]
  },
  {
   "cell_type": "code",
   "execution_count": 300,
   "id": "c6c14c80-bdd0-467f-822d-159a61a6322f",
   "metadata": {},
   "outputs": [],
   "source": [
    "popt_new = np.array(popt_new)"
   ]
  },
  {
   "cell_type": "code",
   "execution_count": 298,
   "id": "6febb432-4bc2-4aaa-b31c-d7d436b95ab7",
   "metadata": {},
   "outputs": [],
   "source": [
    "f = open('E:RUN5/Take5/Sigma_Mu_ratio_B07.pickle', 'wb')\n",
    "Parameter={'sigma_mu_Cs':sigma_mu_Cs, 'sigma_mu_Na':sigma_mu_Na, 'sigma_mu_Ba':sigma_mu_Ba, 'sigma_mu_Sc':sigma_mu_Sc, 'Function': 'c + d /sqrt(N)',\n",
    "          'Constants':popt_new, 'Energy':Energy}\n",
    "pickle.dump(Parameter, f)\n",
    "f.close()"
   ]
  },
  {
   "cell_type": "code",
   "execution_count": 299,
   "id": "8ee82dac-466d-4d7f-835f-8b77b8121c19",
   "metadata": {},
   "outputs": [
    {
     "data": {
      "text/plain": [
       "array([ 356,  511,  667, 1132, 1275])"
      ]
     },
     "execution_count": 299,
     "metadata": {},
     "output_type": "execute_result"
    }
   ],
   "source": [
    "Energy"
   ]
  },
  {
   "cell_type": "code",
   "execution_count": null,
   "id": "97d35ac0-d299-407c-b67e-b7717a9be9b6",
   "metadata": {},
   "outputs": [],
   "source": []
  },
  {
   "cell_type": "markdown",
   "id": "6e3e16dc-7575-46ec-a88c-3f2f3186bc05",
   "metadata": {},
   "source": [
    "# efficiency"
   ]
  },
  {
   "cell_type": "code",
   "execution_count": 2,
   "id": "c76fea7e-2c2c-42d6-a4ae-13f379c28b11",
   "metadata": {},
   "outputs": [],
   "source": [
    "def search_and_sort_files(root_dir, partial_name):\n",
    "    # Search for files in subdirectories with the partial name\n",
    "    files = glob(f\"{root_dir}/**/*{partial_name}*\", recursive=True)\n",
    "    \n",
    "    # Get files with their modification times\n",
    "    files_with_times = [(file, os.path.getmtime(file)) for file in files if os.path.isfile(file)]\n",
    "    \n",
    "    # Sort files by modification time (most recent first)\n",
    "    sorted_files = sorted(files_with_times, key=lambda x: x[1])\n",
    "    \n",
    "    # Print sorted file paths with modification times\n",
    "    # for file, mtime in sorted_files:\n",
    "    #     print(f\"{file} - Last Modified: {mtime}\")\n",
    "    \n",
    "    return sorted_files"
   ]
  },
  {
   "cell_type": "code",
   "execution_count": null,
   "id": "c91c4499-8975-48de-9002-248f1f3adc35",
   "metadata": {},
   "outputs": [],
   "source": [
    "root_directory=\"E:/RUN5/Take5/Ba133/Figures/Norm_Th\"  \n",
    "partial_name = \"Efficiency_count\"\n",
    "sorted_files = search_and_sort_files(root_directory, partial_name)\n",
    "len(sorted_files)"
   ]
  },
  {
   "cell_type": "code",
   "execution_count": null,
   "id": "6641446a-4d65-45fd-8abd-78824bca4c18",
   "metadata": {},
   "outputs": [],
   "source": [
    "file = sorted_files[0][0]\n",
    "f = open('%s'%(file), 'rb')\n",
    "dat=pickle.load(f)\n",
    "Count = dat['Count']\n",
    "Energy_range=dat['Energy_range']\n",
    "np.shape(Count)"
   ]
  },
  {
   "cell_type": "code",
   "execution_count": null,
   "id": "5bd2824c-36a5-46eb-a589-5530b3fc3fc8",
   "metadata": {},
   "outputs": [],
   "source": [
    "\n",
    "Count_data = np.zeros((199, 26))\n",
    "n = 0\n",
    "for j in range(18):\n",
    "    try:\n",
    "        file = sorted_files[j][0]\n",
    "        f = open('%s'%(file), 'rb')\n",
    "        dat=pickle.load(f)\n",
    "        # Bins=dat['Bins']\n",
    "        count = np.array(dat['Count'])\n",
    "        count = count[:199, :]\n",
    "        # print(np.shape(count))\n",
    "        Count_data += count\n",
    "        f.close()\n",
    "        n+=1\n",
    "    except:\n",
    "        pass"
   ]
  },
  {
   "cell_type": "code",
   "execution_count": null,
   "id": "c7faaad6-63fc-436a-95e6-b2660e110556",
   "metadata": {},
   "outputs": [],
   "source": [
    "count = dat['Count']\n",
    "Energy = dat['Energy_range']"
   ]
  },
  {
   "cell_type": "code",
   "execution_count": null,
   "id": "2557fa76-6a65-408c-a032-fa3974244562",
   "metadata": {},
   "outputs": [],
   "source": [
    "c = 6\n",
    "plt.plot(Energy_range[0:100], Count_data[0:100, c])\n",
    "plt.plot(Energy_range[0:100], Count_RAW[0:100, c])\n",
    "plt.yscale(\"log\")\n",
    "plt.xlim(0, 1000)"
   ]
  },
  {
   "cell_type": "code",
   "execution_count": null,
   "id": "a3a1dd8a-230c-4a59-a1bd-3473c644a9bd",
   "metadata": {},
   "outputs": [],
   "source": []
  },
  {
   "cell_type": "code",
   "execution_count": null,
   "id": "0d3d7d01-ccd5-4eea-a1a9-0d580f0377bc",
   "metadata": {},
   "outputs": [],
   "source": [
    "root_directory=\"E:/RUN5/Take5/Ba133/Figures/low_Th\"  \n",
    "partial_name = \"Efficiency_count\"\n",
    "sorted_files = search_and_sort_files(root_directory, partial_name)\n",
    "len(sorted_files)"
   ]
  },
  {
   "cell_type": "code",
   "execution_count": null,
   "id": "1b3e6ac5-120f-4424-be8d-6f16792469a7",
   "metadata": {},
   "outputs": [],
   "source": [
    "Count_RAW = np.zeros((199, 26))\n",
    "n = 0\n",
    "for j in range(len(sorted_files)):\n",
    "    try:\n",
    "        file = sorted_files[j][0]\n",
    "        f = open('%s'%(file), 'rb')\n",
    "        dat=pickle.load(f)\n",
    "        # Bins=dat['Bins']\n",
    "        count = np.array(dat['Count'])\n",
    "        count = count.T\n",
    "        Count_RAW += count\n",
    "        f.close()\n",
    "        n+=1\n",
    "    except:\n",
    "        pass"
   ]
  },
  {
   "cell_type": "code",
   "execution_count": null,
   "id": "afb76938-d80e-4849-9854-cd2e0841dc18",
   "metadata": {},
   "outputs": [],
   "source": [
    "file = sorted_files[0][0]\n",
    "f = open('%s'%(file), 'rb')\n",
    "dat=pickle.load(f)\n",
    "Count = dat['Count']\n",
    "Energy_range=dat['Energy_range']\n",
    "np.shape(Count)"
   ]
  },
  {
   "cell_type": "code",
   "execution_count": null,
   "id": "0d5db261-4d1d-41e0-982c-02b4c38835b8",
   "metadata": {},
   "outputs": [],
   "source": []
  }
 ],
 "metadata": {
  "kernelspec": {
   "display_name": "Python 3 (ipykernel)",
   "language": "python",
   "name": "python3"
  },
  "language_info": {
   "codemirror_mode": {
    "name": "ipython",
    "version": 3
   },
   "file_extension": ".py",
   "mimetype": "text/x-python",
   "name": "python",
   "nbconvert_exporter": "python",
   "pygments_lexer": "ipython3",
   "version": "3.9.1"
  }
 },
 "nbformat": 4,
 "nbformat_minor": 5
}
